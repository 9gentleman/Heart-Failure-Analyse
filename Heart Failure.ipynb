{
 "cells": [
  {
   "cell_type": "markdown",
   "metadata": {},
   "source": [
    "    Projemizde Kalp Yetmezliği için inceleme yapıyoruz.\n",
    "Bu incelemede insanların kilolarına göre Sistolik Kan Basıncı ve Diyastolik Kan Basıncı nasıl değişim göstermektedir bunu incelemekteyiz.\n",
    "\n",
    "Alan bilgisi :\n",
    "\n",
    "Sistolik Kan Basıncı: Sistolik kan basıncı, kalbin en yüksek basıncını temsil eder ve kalp kasının kasıldığı sırada arterlerde oluşan basıncı ölçer.(ap_hi)\n",
    "Sağlıklı yetişkinlerde, genellikle 90 ila 120 mm Hg arasında olmalıdır.120 ila 129 mm Hg arasındaki değerler normal olarak kabul edilirken, 130 ila 139 mm Hg arasındaki değerler yüksek normal (prehypertension) olarak kabul edilir\n",
    "\n",
    "Diastolik Kan Basıncı: Diastolik kan basıncı, kalbin en düşük basıncını temsil eder ve kalp kasının gevşediği sırada arterlerde oluşan basıncı ölçer.(ap_lo)\n",
    "Sağlıklı yetişkinlerde, genellikle 60 ila 80 mm Hg arasında olmalıdır.80 ila 89 mm Hg arasındaki değerler yüksek normal (prehypertension) olarak kabul edilir."
   ]
  },
  {
   "cell_type": "code",
   "execution_count": 26,
   "metadata": {},
   "outputs": [],
   "source": [
    "import pandas as pd\n",
    "import numpy as np\n",
    "import math\n",
    "import matplotlib.pyplot as plt\n",
    "import random\n",
    "import seaborn as sns\n",
    "from scipy.stats import norm\n",
    "from scipy.stats import chi2\n",
    "import seaborn as sns\n",
    "from scipy.stats import shapiro\n",
    "from scipy.stats import spearmanr\n",
    "import statsmodels.api as sm"
   ]
  },
  {
   "cell_type": "code",
   "execution_count": 27,
   "metadata": {},
   "outputs": [
    {
     "name": "stdout",
     "output_type": "stream",
     "text": [
      "          id    age  gender  height  weight  ap_hi  ap_lo  cholesterol  gluc  \\\n",
      "0          0  18393       2     168    62.0    110     80            1     1   \n",
      "1          1  20228       1     156    85.0    140     90            3     1   \n",
      "2          2  18857       1     165    64.0    130     70            3     1   \n",
      "3          3  17623       2     169    82.0    150    100            1     1   \n",
      "4          4  17474       1     156    56.0    100     60            1     1   \n",
      "...      ...    ...     ...     ...     ...    ...    ...          ...   ...   \n",
      "69995  99993  19240       2     168    76.0    120     80            1     1   \n",
      "69996  99995  22601       1     158   126.0    140     90            2     2   \n",
      "69997  99996  19066       2     183   105.0    180     90            3     1   \n",
      "69998  99998  22431       1     163    72.0    135     80            1     2   \n",
      "69999  99999  20540       1     170    72.0    120     80            2     1   \n",
      "\n",
      "       smoke  alco  active  cardio  \n",
      "0          0     0       1       0  \n",
      "1          0     0       1       1  \n",
      "2          0     0       0       1  \n",
      "3          0     0       1       1  \n",
      "4          0     0       0       0  \n",
      "...      ...   ...     ...     ...  \n",
      "69995      1     0       1       0  \n",
      "69996      0     0       1       1  \n",
      "69997      0     1       0       1  \n",
      "69998      0     0       0       1  \n",
      "69999      0     0       1       0  \n",
      "\n",
      "[70000 rows x 13 columns]\n"
     ]
    }
   ],
   "source": [
    "df = pd.read_excel(r'C:\\Users\\Can\\Desktop\\Project of Ist 2\\cardio_train.xlsx')\n",
    "\n",
    "print(df)"
   ]
  },
  {
   "cell_type": "markdown",
   "metadata": {},
   "source": [
    "Aralarından ilgilendiğim değişkenleri seçerim."
   ]
  },
  {
   "cell_type": "code",
   "execution_count": 28,
   "metadata": {},
   "outputs": [
    {
     "name": "stdout",
     "output_type": "stream",
     "text": [
      "          id  weight  ap_hi  ap_lo\n",
      "0          0    62.0    110     80\n",
      "1          1    85.0    140     90\n",
      "2          2    64.0    130     70\n",
      "3          3    82.0    150    100\n",
      "4          4    56.0    100     60\n",
      "...      ...     ...    ...    ...\n",
      "69995  99993    76.0    120     80\n",
      "69996  99995   126.0    140     90\n",
      "69997  99996   105.0    180     90\n",
      "69998  99998    72.0    135     80\n",
      "69999  99999    72.0    120     80\n",
      "\n",
      "[70000 rows x 4 columns]\n"
     ]
    }
   ],
   "source": [
    "selected_population_variables = df[[\"id\", \"weight\", \"ap_hi\", \"ap_lo\"]]\n",
    "print(selected_population_variables)"
   ]
  },
  {
   "cell_type": "markdown",
   "metadata": {},
   "source": [
    "Weight(X) = Dependent Variable\n",
    "\n",
    "ap_hi, ap_lo(Y) = Independent Variable\n",
    "\n"
   ]
  },
  {
   "cell_type": "markdown",
   "metadata": {},
   "source": [
    "Kitlemizde herhangi bir inceleme yapamıyorum çünkü çok fazla kirli veri var bunları da düzenlemek istiyorum.\n",
    "\n",
    "Alan bilgisini kullanarak;\n",
    "\n",
    "Sistolik kan basıncı için: (75, 175)\n",
    "\n",
    "Diastolik kan basıncı için: (60, 120)\n",
    "\n",
    "Kilo için: (0, 170)\n",
    "\n",
    "Aralığının dışındaki olan değerler var mı hesaplayıp bu aralıkta olan bir değere atayalım."
   ]
  },
  {
   "cell_type": "code",
   "execution_count": 29,
   "metadata": {},
   "outputs": [
    {
     "name": "stdout",
     "output_type": "stream",
     "text": [
      "Sistolik için Aykiri Değer ya da Değerler vardir.\n",
      "Sistolik için Aykiri Değer sayisi: 1283\n",
      "Diyalostik için Aykiri Değer ya da Değerler vardir.\n",
      "Diyalostik için Aykiri Değer sayisi: 1231\n",
      "Kilo için Aykiri Değer ya da Değerler vardir.\n",
      "Kilo için Aykiri Değer sayisi: 12\n"
     ]
    }
   ],
   "source": [
    "def check_outlier(data, max_lim=0, min_lim=0, name_data='name of data'):\n",
    "    outlier_count = 0\n",
    "    for inner in data.values:\n",
    "        if (inner > max_lim or inner < min_lim):\n",
    "            outlier_count += 1\n",
    "        else:\n",
    "            pass\n",
    "    if outlier_count == 0:\n",
    "        print(f'{name_data} için Aykiri Değer Yoktur.')\n",
    "    else:\n",
    "        print(f'{name_data} için Aykiri Değer ya da Değerler vardir.')\n",
    "        print(f'{name_data} için Aykiri Değer sayisi: {outlier_count}')\n",
    "        \n",
    "check_outlier(selected_population_variables['ap_hi'],\n",
    "              max_lim=175, min_lim=75, name_data='Sistolik')\n",
    "check_outlier(selected_population_variables['ap_lo'],\n",
    "              max_lim=120, min_lim=60, name_data='Diyalostik')\n",
    "check_outlier(selected_population_variables['weight'],\n",
    "              max_lim=175, min_lim=0, name_data='Kilo')"
   ]
  },
  {
   "cell_type": "markdown",
   "metadata": {},
   "source": [
    "Bulduğumuz Aykırı Değerleri Aralıkta bir değere atayalım"
   ]
  },
  {
   "cell_type": "code",
   "execution_count": 30,
   "metadata": {},
   "outputs": [],
   "source": [
    "selected_population_variables.loc[(selected_population_variables['ap_lo'] > 120) | (\n",
    "    selected_population_variables['ap_lo'] < 60), 'ap_lo'] = 80\n",
    "\n",
    "selected_population_variables.loc[(selected_population_variables['ap_hi'] > 170) | (\n",
    "    selected_population_variables['ap_hi'] < 75), 'ap_hi'] = 105\n",
    "\n",
    "selected_population_variables.loc[selected_population_variables['weight']\n",
    "                                  > 170, 'weight'] = 85"
   ]
  },
  {
   "cell_type": "markdown",
   "metadata": {},
   "source": [
    "Test Edelim"
   ]
  },
  {
   "cell_type": "code",
   "execution_count": 31,
   "metadata": {},
   "outputs": [
    {
     "name": "stdout",
     "output_type": "stream",
     "text": [
      "Sistolik için Aykiri Değer Yoktur.\n",
      "Diyalostik için Aykiri Değer Yoktur.\n",
      "Kilo için Aykiri Değer Yoktur.\n"
     ]
    }
   ],
   "source": [
    "check_outlier(selected_population_variables['ap_hi'],\n",
    "              max_lim=175, min_lim=75, name_data='Sistolik')\n",
    "check_outlier(selected_population_variables['ap_lo'],\n",
    "              max_lim=120, min_lim=60, name_data='Diyalostik')\n",
    "check_outlier(selected_population_variables['weight'],\n",
    "              max_lim=175, min_lim=0, name_data='Kilo')"
   ]
  },
  {
   "cell_type": "markdown",
   "metadata": {},
   "source": [
    "70.000 tane veri olduğu için bunları temsil edecek bir örnekleme ihtiyacım var, öncelikle örneklem büyüklüğünü hesaplayalım."
   ]
  },
  {
   "cell_type": "code",
   "execution_count": 32,
   "metadata": {},
   "outputs": [
    {
     "name": "stdout",
     "output_type": "stream",
     "text": [
      "934\n"
     ]
    }
   ],
   "source": [
    "def sample_size_cal(pop):\n",
    "    \"\"\"\n",
    "        Info: This function calculate the size of population.\n",
    "        Parameter: Populaiton\n",
    "    \"\"\"\n",
    "    # CONFIDANCE_LEVEL = 0.95\n",
    "    variance_pop = pop.var()\n",
    "    pop_size = len(pop)\n",
    "    DEVIATION = 10\n",
    "    Z_TABLE = 2\n",
    "    P = 0.5\n",
    "    Q = 1-P\n",
    "    sample_size = ((pop_size)*(Z_TABLE**2)*(variance_pop)) / \\\n",
    "        ((DEVIATION**2)*(pop_size-1)+(Z_TABLE**2)*(variance_pop))\n",
    "    rounded_sample_size = round(sample_size)\n",
    "    return rounded_sample_size\n",
    "print(sample_size_cal(df[\"ap_hi\"]))"
   ]
  },
  {
   "cell_type": "markdown",
   "metadata": {},
   "source": [
    "Örneklem büyüklüğünü hesapladık şimdi de örneklemimizi Sistematik Örnekleme Yöntemi ile seçelim\n",
    "\n",
    "k = 70"
   ]
  },
  {
   "cell_type": "code",
   "execution_count": 33,
   "metadata": {},
   "outputs": [
    {
     "name": "stdout",
     "output_type": "stream",
     "text": [
      "          id  weight  ap_hi  ap_lo\n",
      "0          0    62.0    110     80\n",
      "70        95    57.0    120     80\n",
      "140      189    55.0    120     90\n",
      "210      289    75.0    150    100\n",
      "280      383    72.0    160     90\n",
      "...      ...     ...    ...    ...\n",
      "69650  99483    89.0    120     70\n",
      "69720  99578    71.0    120     80\n",
      "69790  99680    75.0    140     90\n",
      "69860  99778    55.0    120     80\n",
      "69930  99894    60.0    140    100\n",
      "\n",
      "[1000 rows x 4 columns]\n"
     ]
    }
   ],
   "source": [
    "pop_size = len(df)\n",
    "sampleSize = 1000\n",
    "\n",
    "sample_index = [i for i in range(0, pop_size, 70)]\n",
    "missing_data = sampleSize - len(sample_index)\n",
    "\n",
    "if missing_data > 0:\n",
    "    missing_data = random.sample(range(pop_size), missing_data)\n",
    "    sample_index.extend(missing_data)\n",
    "\n",
    "sample = selected_population_variables.iloc[sample_index]\n",
    "\n",
    "selected_sample_variables = sample[[\"id\", \"weight\", \"ap_hi\", \"ap_lo\"]]\n",
    "\n",
    "print(selected_sample_variables)"
   ]
  },
  {
   "cell_type": "code",
   "execution_count": 34,
   "metadata": {},
   "outputs": [],
   "source": [
    "df_ap_lo = selected_sample_variables['ap_lo']\n",
    "df_ap_hi = selected_sample_variables['ap_hi']\n",
    "df_weight = selected_sample_variables['weight']"
   ]
  },
  {
   "cell_type": "markdown",
   "metadata": {},
   "source": [
    "1000 kişilik bir örneklem çekmiş olduk, şimdi aykırı değerlerimizi inceleyelim."
   ]
  },
  {
   "cell_type": "code",
   "execution_count": 35,
   "metadata": {},
   "outputs": [
    {
     "name": "stdout",
     "output_type": "stream",
     "text": [
      "Diastolic : (53.82614400802488, 108.27585599197512)\n",
      "Sistolic : (79.68829869734981, 170.8677013026502)\n",
      "Weight : (-24.470731287554997, 171.136931287555)\n"
     ]
    }
   ],
   "source": [
    "def outler_detec(val, name='', level=0):\n",
    "    \"\"\"\n",
    "        Info: sample mean +- level*sample standart deviation\n",
    "    \"\"\"\n",
    "    formula_outlier_upper = val.mean() + (level * math.sqrt(val.var()))\n",
    "    formula_outlier_lower = val.mean() - (level * math.sqrt(val.var()))\n",
    "    formula_outlier = (formula_outlier_lower, formula_outlier_upper)\n",
    "    print(f'{name} : {formula_outlier}')\n",
    "    \n",
    "    \n",
    "outler_detec(selected_sample_variables['ap_lo'], name='Diastolic', level=3) \n",
    "outler_detec(selected_sample_variables['ap_hi'], name='Sistolic', level=3) \n",
    "outler_detec(selected_sample_variables['weight'], name='Weight', level=7) "
   ]
  },
  {
   "cell_type": "markdown",
   "metadata": {},
   "source": [
    "Bu aralıklara göre kitlemizdeki verileri düzenlemiştik. Çektiğimiz örneklemde bir problem var mı? Kendi yazdığımız aykırı değer kontrol fonksiyonumuzdan inceleyelim."
   ]
  },
  {
   "cell_type": "code",
   "execution_count": 36,
   "metadata": {},
   "outputs": [
    {
     "name": "stdout",
     "output_type": "stream",
     "text": [
      "Örneklemin Sistolik Kan Basinci için Aykiri Değer Yoktur.\n",
      "Örneklemin Diyalostik Kan Basinci için Aykiri Değer Yoktur.\n",
      "Örneklemin Kilo değişkeni için Aykiri Değer Yoktur.\n"
     ]
    }
   ],
   "source": [
    "check_outlier(df_ap_hi,\n",
    "              max_lim=175, min_lim=75, name_data='Örneklemin Sistolik Kan Basinci')\n",
    "check_outlier(df_ap_lo,\n",
    "              max_lim=120, min_lim=60, name_data='Örneklemin Diyalostik Kan Basinci')\n",
    "check_outlier(df_weight,\n",
    "              max_lim=175, min_lim=0, name_data='Örneklemin Kilo değişkeni')"
   ]
  },
  {
   "cell_type": "markdown",
   "metadata": {},
   "source": [
    "Verilerimiz için Istatistiksel Analizlerimizi yapalım."
   ]
  },
  {
   "cell_type": "code",
   "execution_count": 37,
   "metadata": {},
   "outputs": [
    {
     "name": "stdout",
     "output_type": "stream",
     "text": [
      "\n",
      "          Weight mean is : 73.3331\n",
      "          Weight variance is : 195.21611050050046\n",
      "          Weight median is : 71.0\n",
      "          Weight quantiles is : 71.0\n",
      "          Weight standart deviation is : 13.971975898222142\n",
      "\n",
      "          Systolic Blood Pressure mean is : 125.278\n",
      "          Systolic Blood Pressure variance is : 230.93565165165165\n",
      "          Systolic Blood Pressure median is : 120.0\n",
      "          Systolic Blood Pressure quantiles is : 120.0\n",
      "          Systolic Blood Pressure standart deviation is : 15.196567100883398\n",
      "\n",
      "          Diastolic Blood Pressure mean is : 81.051\n",
      "          Diastolic Blood Pressure variance is : 82.35475375375376\n",
      "          Diastolic Blood Pressure median is : 80.0\n",
      "          Diastolic Blood Pressure quantiles is : 80.0\n",
      "          Diastolic Blood Pressure standart deviation is : 9.07495199732504\n"
     ]
    }
   ],
   "source": [
    "def analyse_descriptive_statistic(param, param_name):\n",
    "    \"\"\"\n",
    "        Info: This function basic analyse to data. Such as(mean, variance, median, quantiles, standart deviation)\n",
    "        Parameters: param = Dataset, param_name = name of dataset \n",
    "    \"\"\"\n",
    "    param_mean = param.mean()\n",
    "    param_var = param.var()\n",
    "    param_median = param.median()\n",
    "    # param_mode = param.mode()\n",
    "    param_quantiles = param.quantile()\n",
    "    param_standart_deviation = math.sqrt(param.var())\n",
    "    print(f\"\"\"\n",
    "          {param_name} mean is : {param_mean}\n",
    "          {param_name} variance is : {param_var}\n",
    "          {param_name} median is : {param_median}\n",
    "          {param_name} quantiles is : {param_quantiles}\n",
    "          {param_name} standart deviation is : {param_standart_deviation}\"\"\", sep=\"\")\n",
    "\n",
    "\n",
    "analyse_descriptive_statistic(df_weight, 'Weight')\n",
    "analyse_descriptive_statistic(df_ap_hi, 'Systolic Blood Pressure')\n",
    "analyse_descriptive_statistic(df_ap_lo, 'Diastolic Blood Pressure')"
   ]
  },
  {
   "cell_type": "markdown",
   "metadata": {},
   "source": [
    "Verilerimizi Gorsellestirelim"
   ]
  },
  {
   "cell_type": "code",
   "execution_count": 38,
   "metadata": {},
   "outputs": [],
   "source": [
    "def visualization_data(data1, data2, graph):\n",
    "    \"\"\"\n",
    "        Info: this function plot graphs\n",
    "        x: data1\n",
    "        y: data2\n",
    "        graphs:\n",
    "            graphs = 1 histogram\n",
    "            graphs = 2 Trend\n",
    "            graphs = 3 Curve\n",
    "    \"\"\"\n",
    "    plt.xlabel = data1\n",
    "    plt.ylabel = data2\n",
    "    if graph == 1:\n",
    "        plt.title('Graph Of Histogram')\n",
    "        plt.hist(data1, bins=15, color=\"skyblue\")\n",
    "        plt.grid(True)\n",
    "        plt.show()\n",
    "    if graph == 2:\n",
    "        plt.title('Graph Of Trend')\n",
    "        sns.regplot(x=data1, y=data2, ci=None)\n",
    "        plt.grid(True)\n",
    "        plt.show()\n",
    "    if graph == 3:\n",
    "        plt.title('Graph Of Curve')\n",
    "        plt.plot(data1, data2,\n",
    "                 marker='o', color='green', linestyle='-')\n",
    "        plt.grid(True)\n",
    "        plt.show()\n",
    "    else:\n",
    "        pass"
   ]
  },
  {
   "cell_type": "code",
   "execution_count": 39,
   "metadata": {},
   "outputs": [
    {
     "data": {
      "image/png": "[encoded data removed]",
      "text/plain": [
       "<Figure size 640x480 with 1 Axes>"
      ]
     },
     "metadata": {},
     "output_type": "display_data"
    },
    {
     "data": {
      "image/png": "[encoded data removed]",
      "text/plain": [
       "<Figure size 640x480 with 1 Axes>"
      ]
     },
     "metadata": {},
     "output_type": "display_data"
    },
    {
     "data": {
      "image/png": "[encoded data removed]",
      "text/plain": [
       "<Figure size 640x480 with 1 Axes>"
      ]
     },
     "metadata": {},
     "output_type": "display_data"
    }
   ],
   "source": [
    "visualization_data(df_weight, df_weight, graph=1)\n",
    "visualization_data(df_ap_hi, df_ap_hi, graph=1)\n",
    "visualization_data(df_ap_lo, df_ap_lo, graph=1)"
   ]
  },
  {
   "cell_type": "markdown",
   "metadata": {},
   "source": [
    "1. Grafik - Weight - Ağırlıklarımız Histogram Grafiğinden görüleceği üzere sağa çarpık\n",
    "2. Grafik - Systolic Blood Pressure - Sistolik kan basıncı aynı şekilde sağa çarpık\n",
    "3. Grafik - Diastolic Blood Pressure - Diyastolik kan basıncı da aynı şekilde sağa çarpık"
   ]
  },
  {
   "cell_type": "markdown",
   "metadata": {},
   "source": [
    "Ortalama için Güven Aralığı hesaplayalım"
   ]
  },
  {
   "cell_type": "code",
   "execution_count": 42,
   "metadata": {},
   "outputs": [
    {
     "name": "stdout",
     "output_type": "stream",
     "text": [
      "Kilo değişkenimiz için aralğimiz:  (72.44609914558464, 74.22010085441536)\n",
      "Örneklemin kitleyi temsil ettiği aralik bu araliktir, örneklemin kitleyi temsil etme olasiliği %95 tir.\n",
      "Sistolik kan basinci için için aralğimiz:  (124.31010739698488, 126.24589260301514)\n",
      "Örneklemin kitleyi temsil ettiği aralik bu araliktir, örneklemin kitleyi temsil etme olasiliği %95 tir.\n",
      "Diyastolik kan basinci için aralğimiz:  (80.4793628350032, 81.6226371649968)\n",
      "Örneklemin kitleyi temsil ettiği aralik bu araliktir, örneklemin kitleyi temsil etme olasiliği %95 tir.\n"
     ]
    }
   ],
   "source": [
    "def confidence_interval_mean(param_sample, param_population):\n",
    "    alpha = 0.05\n",
    "    sample_size = len(param_sample)\n",
    "    z_value = norm.ppf(1-(alpha/2))  # table score\n",
    "    samp_mean = param_sample.mean()\n",
    "    pop_var = param_population.var()\n",
    "    pop_ss = math.sqrt(pop_var)\n",
    "    low_limit = samp_mean - z_value * (pop_ss / math.sqrt(sample_size))\n",
    "    upper_limit = samp_mean + z_value * (pop_ss / math.sqrt(sample_size))\n",
    "    confidance_range = low_limit, upper_limit\n",
    "    return confidance_range\n",
    "\n",
    "\n",
    "print(\"Kilo değişkenimiz için aralğimiz: \", confidence_interval_mean(df_weight, selected_population_variables['weight']))\n",
    "print('Örneklemin kitleyi temsil ettiği aralik bu araliktir, örneklemin kitleyi temsil etme olasiliği %95 tir.')\n",
    "print(\"Sistolik kan basinci için için aralğimiz: \", confidence_interval_mean(df_ap_hi, selected_population_variables['ap_hi']))\n",
    "print('Örneklemin kitleyi temsil ettiği aralik bu araliktir, örneklemin kitleyi temsil etme olasiliği %95 tir.')\n",
    "print(\"Diyastolik kan basinci için aralğimiz: \", confidence_interval_mean(df_ap_lo, selected_population_variables['ap_lo']))\n",
    "print('Örneklemin kitleyi temsil ettiği aralik bu araliktir, örneklemin kitleyi temsil etme olasiliği %95 tir.')"
   ]
  },
  {
   "cell_type": "code",
   "execution_count": 43,
   "metadata": {},
   "outputs": [
    {
     "name": "stdout",
     "output_type": "stream",
     "text": [
      "Kilo için kitle varyans tahmin araliği:  (181.64413855073906, 210.4622665573685)\n",
      "Orneklimin Kitle varyansini tahmin etme araliğidir. %90 güven araliğinde tahmin yapilmiştir.\n",
      "Sistolik kan basinci için kitle varyans tahmin araliği:  (214.88035694067517, 248.97146322042363)\n",
      "Orneklimin Kitle varyansini tahmin etme araliğidir. %90 güven araliğinde tahmin yapilmiştir.\n",
      "Diyastolik kan basinci için kitle varyans tahmin araliği:  (76.62922011306283, 88.78656629491925)\n",
      "Orneklimin Kitle varyansini tahmin etme araliğidir. %90 güven araliğinde tahmin yapilmiştir.\n"
     ]
    }
   ],
   "source": [
    "def confidence_interval_var(param_sample):\n",
    "    alpha = 0.1\n",
    "    n = len(param_sample)\n",
    "    degree_of_freedom = n-1\n",
    "    samp_var = param_sample.var()\n",
    "    critical_value1 = chi2.ppf(1-(alpha/2), degree_of_freedom)\n",
    "    critical_value2 = chi2.ppf(alpha/2, degree_of_freedom)\n",
    "    low_limit = ((degree_of_freedom)*(samp_var))/(critical_value1)\n",
    "    upper_limit = ((degree_of_freedom)*(samp_var))/(critical_value2)\n",
    "    confidance_range = low_limit, upper_limit\n",
    "    return confidance_range\n",
    "\n",
    "\n",
    "print('Kilo için kitle varyans tahmin araliği: ',\n",
    "      confidence_interval_var(df_weight))\n",
    "print('Orneklimin Kitle varyansini tahmin etme araliğidir. %90 güven araliğinde tahmin yapilmiştir.')\n",
    "print('Sistolik kan basinci için kitle varyans tahmin araliği: ',\n",
    "      confidence_interval_var(df_ap_hi))\n",
    "print('Orneklimin Kitle varyansini tahmin etme araliğidir. %90 güven araliğinde tahmin yapilmiştir.')\n",
    "print('Diyastolik kan basinci için kitle varyans tahmin araliği: ',\n",
    "      confidence_interval_var(df_ap_lo))\n",
    "print('Orneklimin Kitle varyansini tahmin etme araliğidir. %90 güven araliğinde tahmin yapilmiştir.')"
   ]
  },
  {
   "cell_type": "code",
   "execution_count": 44,
   "metadata": {},
   "outputs": [
    {
     "name": "stdout",
     "output_type": "stream",
     "text": [
      "z score: 10.687848918544372 >= z table:1.6448536269514722 olduğundan HO hipotezi Reddedilir.\n",
      " Kitle ortalamasi 120 dan farkli bir değer için.\n",
      "%10.0 anlamlilik düzeyinde tahmin yapilir.\n",
      "z score: 3.6035483238097457 >= z table:1.6448536269514722 olduğundan HO hipotezi Reddedilir.\n",
      " Kitle ortalamasi 80 dan farkli bir değer için.\n",
      "%10.0 anlamlilik düzeyinde tahmin yapilir.\n"
     ]
    }
   ],
   "source": [
    "def hypothesis_test(paramY, param_pop, param_lambda=0, alpha=0):\n",
    "    # Kitle varyansı biliniyor\n",
    "    n = len(paramY)\n",
    "    standart_deviation_population = math.sqrt(param_pop.var())\n",
    "    standart_error = standart_deviation_population/math.sqrt(n)\n",
    "    sample_mean = paramY.mean()\n",
    "    z_score = (sample_mean-param_lambda)/standart_error\n",
    "    z_table = norm.ppf(1-(alpha/2))\n",
    "    if abs(z_score) >= z_table:\n",
    "        print(f'z score: {z_score} >= z table:{z_table} olduğundan HO hipotezi Reddedilir.\\n Kitle ortalamasi {param_lambda} dan farkli bir değer için.\\n%{alpha*100} anlamlilik düzeyinde tahmin yapilir.')\n",
    "    else:\n",
    "        print(f'z score: {z_score} < z table:{z_table} olduğundan HO hipotezi Reddedilemez.\\n Kitle ortalamasi {param_lambda} için.\\n%{alpha*100} anlamlilik düzeyinde tahmin yapilir.')\n",
    "\n",
    "\n",
    "hypothesis_test(paramY=df_ap_hi,\n",
    "                param_pop=selected_population_variables['ap_hi'], param_lambda=120, alpha=0.1)\n",
    "hypothesis_test(paramY=df_ap_lo,\n",
    "                param_pop=selected_population_variables['ap_lo'], param_lambda=80, alpha=0.1)"
   ]
  },
  {
   "cell_type": "code",
   "execution_count": 45,
   "metadata": {},
   "outputs": [
    {
     "data": {
      "image/png": "[encoded data removed]",
      "text/plain": [
       "<Figure size 800x600 with 2 Axes>"
      ]
     },
     "metadata": {},
     "output_type": "display_data"
    }
   ],
   "source": [
    "def corr_matrix_plt(param_df):\n",
    "    corr_matrix = param_df.corr()\n",
    "    plt.figure(figsize=(8, 6))\n",
    "    sns.heatmap(corr_matrix, annot=True, cmap='coolwarm', fmt=\".2f\")\n",
    "    plt.title('Korelasyon Matrisi')\n",
    "    plt.show()\n",
    "\n",
    "\n",
    "corr_matrix_plt(selected_sample_variables)"
   ]
  },
  {
   "cell_type": "code",
   "execution_count": 46,
   "metadata": {},
   "outputs": [
    {
     "name": "stdout",
     "output_type": "stream",
     "text": [
      "Test İstatistiği: 0.924238057856027\n",
      "p-değeri: 5.070541409332187e-22\n",
      "Örneklem normal dağilimdan gelmemektedir (H0 reddedilir)\n",
      "-----------\n",
      "Test İstatistiği: 0.8670761816479051\n",
      "p-değeri: 2.7338394312947955e-28\n",
      "Örneklem normal dağilimdan gelmemektedir (H0 reddedilir)\n",
      "-----------\n",
      "Test İstatistiği: 0.9584546254850778\n",
      "p-değeri: 3.042659533352847e-16\n",
      "Örneklem normal dağilimdan gelmemektedir (H0 reddedilir)\n",
      "-----------\n"
     ]
    }
   ],
   "source": [
    "def normality_test(param):\n",
    "    \"\"\"\n",
    "        Info: param must be data frame.\n",
    "    \"\"\"\n",
    "    # Shapiro-Wilk testi\n",
    "    stat, p_value = shapiro(param)\n",
    "    print(\"Test İstatistiği:\", stat)\n",
    "    print(\"p-değeri:\", p_value)\n",
    "\n",
    "    alpha = 0.05\n",
    "    if p_value > alpha:\n",
    "        print(\"Örneklem normal dağilimdan gelmektedir (H0 reddedilemez)\")\n",
    "    else:\n",
    "        print(\"Örneklem normal dağilimdan gelmemektedir (H0 reddedilir)\")\n",
    "\n",
    "\n",
    "normality_test(df_ap_hi)\n",
    "print('-----------')\n",
    "normality_test(df_ap_lo)\n",
    "print('-----------')\n",
    "normality_test(df_weight)\n",
    "print('-----------')\n"
   ]
  },
  {
   "cell_type": "markdown",
   "metadata": {},
   "source": [
    "Değişkenlerimizin Normal Dağılıma Sahip olmadıklarını bulduk, bu yüzden Spearman Katsayısını kullanmalıyım"
   ]
  },
  {
   "cell_type": "code",
   "execution_count": 47,
   "metadata": {},
   "outputs": [
    {
     "name": "stdout",
     "output_type": "stream",
     "text": [
      "Spearman katsayisi: 0.9999999999999998\n",
      "P değeri: 0.0\n",
      "Mükemmel ilişki.\n",
      "---------\n",
      "Spearman katsayisi: 0.2238238525206505\n",
      "P değeri: 8.061315248344604e-13\n",
      "Çok Zayif ilişki.\n",
      "---------\n",
      "Spearman katsayisi: 0.20571619712935946\n",
      "P değeri: 5.1150598584715953e-11\n",
      "Çok Zayif ilişki.\n"
     ]
    }
   ],
   "source": [
    "def corr_test(paramX, paramY):\n",
    "    spearman_corr, p_value = spearmanr(paramX, paramY)\n",
    "    print(\"Spearman katsayisi:\", spearman_corr)\n",
    "    print(\"P değeri:\", p_value)\n",
    "    if 0 <= spearman_corr < 0.10:\n",
    "        print('İlişki Yoktur')\n",
    "    if 0.10 <= spearman_corr < 0.20:\n",
    "        print('Zayif ilişki.')\n",
    "    if 0.20 <= spearman_corr < 0.40:\n",
    "        print('Çok Zayif ilişki.')\n",
    "    if 0.40 <= spearman_corr < 0.60:\n",
    "        print('Orta Düzey ilişki.')\n",
    "    if 0.60 <= spearman_corr < 0.80:\n",
    "        print('Yüksek ilişki.')\n",
    "    if 0.80 <= spearman_corr < 0.90:\n",
    "        print('Çok Yüksek ilişki.')\n",
    "    if 0.90 <= spearman_corr <= 1:\n",
    "        print('Mükemmel ilişki.')\n",
    "\n",
    "\n",
    "corr_test(df_weight, df_weight)\n",
    "print('---------')\n",
    "corr_test(df_weight, df_ap_hi)\n",
    "print('---------')\n",
    "corr_test(df_weight, df_ap_lo)"
   ]
  },
  {
   "cell_type": "markdown",
   "metadata": {},
   "source": [
    "Regresyon Çözümlememizi yapıp modeli olutşuralım"
   ]
  },
  {
   "cell_type": "code",
   "execution_count": 48,
   "metadata": {},
   "outputs": [],
   "source": [
    "def reg_model(paramX, paramY):\n",
    "    \"\"\"\n",
    "        Info: ParamX = Independent\n",
    "              ParamY = dependent\n",
    "    \"\"\"\n",
    "    X = paramX\n",
    "    Y = paramY\n",
    "    # Sabit terimi ekleyerek X'i yeniden şekillendirme\n",
    "    X = sm.add_constant(X)\n",
    "    # Modeli oluşturma\n",
    "    model = sm.OLS(Y, X).fit()\n",
    "    print(model.summary())"
   ]
  },
  {
   "cell_type": "markdown",
   "metadata": {},
   "source": [
    "X = Weight , Y = Sistolik Kan basıncı "
   ]
  },
  {
   "cell_type": "code",
   "execution_count": 49,
   "metadata": {},
   "outputs": [
    {
     "name": "stdout",
     "output_type": "stream",
     "text": [
      "                            OLS Regression Results                            \n",
      "==============================================================================\n",
      "Dep. Variable:                  ap_hi   R-squared:                       0.047\n",
      "Model:                            OLS   Adj. R-squared:                  0.046\n",
      "Method:                 Least Squares   F-statistic:                     48.87\n",
      "Date:                Wed, 15 May 2024   Prob (F-statistic):           4.99e-12\n",
      "Time:                        17:53:55   Log-Likelihood:                -4115.6\n",
      "No. Observations:                1000   AIC:                             8235.\n",
      "Df Residuals:                     998   BIC:                             8245.\n",
      "Df Model:                           1                                         \n",
      "Covariance Type:            nonrobust                                         \n",
      "==============================================================================\n",
      "                 coef    std err          t      P>|t|      [0.025      0.975]\n",
      "------------------------------------------------------------------------------\n",
      "const        108.0443      2.509     43.055      0.000     103.120     112.969\n",
      "weight         0.2350      0.034      6.991      0.000       0.169       0.301\n",
      "==============================================================================\n",
      "Omnibus:                       50.275   Durbin-Watson:                   1.981\n",
      "Prob(Omnibus):                  0.000   Jarque-Bera (JB):               57.735\n",
      "Skew:                           0.537   Prob(JB):                     2.90e-13\n",
      "Kurtosis:                       3.481   Cond. No.                         399.\n",
      "==============================================================================\n",
      "\n",
      "Notes:\n",
      "[1] Standard Errors assume that the covariance matrix of the errors is correctly specified.\n"
     ]
    }
   ],
   "source": [
    "reg_model(df_weight, df_ap_hi)"
   ]
  },
  {
   "cell_type": "markdown",
   "metadata": {},
   "source": [
    "Y = β0 + β1 * x\n",
    "\n",
    "ap_hi = 108,0443 + 0,230 * weight\n",
    "\n",
    "P sütununu incelediğimiz zaman 0 a çok yakın değerler almıştır dolayısıyla p < 0.05 olduğundan H0 reddedilir.\n",
    "\n",
    "( Model Anlamlıdır.)"
   ]
  },
  {
   "cell_type": "markdown",
   "metadata": {},
   "source": [
    "X = Weight , Y = Diyastolik Kan basıncı "
   ]
  },
  {
   "cell_type": "code",
   "execution_count": 50,
   "metadata": {},
   "outputs": [
    {
     "name": "stdout",
     "output_type": "stream",
     "text": [
      "                            OLS Regression Results                            \n",
      "==============================================================================\n",
      "Dep. Variable:                  ap_lo   R-squared:                       0.046\n",
      "Model:                            OLS   Adj. R-squared:                  0.045\n",
      "Method:                 Least Squares   F-statistic:                     47.93\n",
      "Date:                Wed, 15 May 2024   Prob (F-statistic):           7.88e-12\n",
      "Time:                        17:53:55   Log-Likelihood:                -3600.5\n",
      "No. Observations:                1000   AIC:                             7205.\n",
      "Df Residuals:                     998   BIC:                             7215.\n",
      "Df Model:                           1                                         \n",
      "Covariance Type:            nonrobust                                         \n",
      "==============================================================================\n",
      "                 coef    std err          t      P>|t|      [0.025      0.975]\n",
      "------------------------------------------------------------------------------\n",
      "const         70.8543      1.499     47.260      0.000      67.912      73.796\n",
      "weight         0.1390      0.020      6.923      0.000       0.100       0.178\n",
      "==============================================================================\n",
      "Omnibus:                       76.943   Durbin-Watson:                   2.046\n",
      "Prob(Omnibus):                  0.000   Jarque-Bera (JB):              147.285\n",
      "Skew:                           0.508   Prob(JB):                     1.04e-32\n",
      "Kurtosis:                       4.582   Cond. No.                         399.\n",
      "==============================================================================\n",
      "\n",
      "Notes:\n",
      "[1] Standard Errors assume that the covariance matrix of the errors is correctly specified.\n"
     ]
    }
   ],
   "source": [
    "reg_model(df_weight, df_ap_lo)"
   ]
  },
  {
   "cell_type": "markdown",
   "metadata": {},
   "source": [
    "Y = β0 + β1 * x\n",
    "\n",
    "ap_lo = 70,8543 + 0,1390 * weight\n",
    "\n",
    "P sütununu incelediğimiz zaman 0 a çok yakın değerler almıştır dolayısıyla p < 0.05 olduğundan H0 reddedilir.\n",
    "\n",
    "( Model Anlamlıdır.)"
   ]
  }
 ],
 "metadata": {
  "kernelspec": {
   "display_name": "Python 3",
   "language": "python",
   "name": "python3"
  },
  "language_info": {
   "codemirror_mode": {
    "name": "ipython",
    "version": 3
   },
   "file_extension": ".py",
   "mimetype": "text/x-python",
   "name": "python",
   "nbconvert_exporter": "python",
   "pygments_lexer": "ipython3",
   "version": "3.11.9"
  }
 },
 "nbformat": 4,
 "nbformat_minor": 2
}
